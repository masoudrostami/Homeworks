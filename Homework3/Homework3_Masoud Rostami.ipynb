{
 "cells": [
  {
   "cell_type": "markdown",
   "metadata": {},
   "source": [
    "# Jypyter Notebooks and Python Refresh Homework 3\n",
    "We are going to do the Python Refresh Homework in a juypyter Notebook. In this homework we will review the basic principles of python programming. You will work through a few questions and build some scripts. You will need the Bloom et al Dataset found in this repository. For each question add a cell to put your answer in either as a text cell or a code cell following the question.\n",
    "\n",
    "### Markdown\n",
    "Here is a [markdown refresh](https://programminghistorian.org/en/lessons/getting-started-with-markdown)\n",
    "\n",
    "### General concepts to refresh and lessons to review if you need them:\n",
    "\n",
    "Here is a nice [Python_Refresh](https://pythonforbiologists.com/introduction) that goes over the majority of the basic python commands.\n",
    "\n",
    "Remember these Primers from Last Semester\n",
    "\n",
    "[Python_Primer1](https://github.com/tparchman/BIOL792_course_site/blob/master/week6_pythonI/python_1_primer.md) \n",
    "\n",
    "[Lists_for_loops](https://github.com/tparchman/BIOL792_course_site/blob/master/week7_pythonII/python_2_primer.md)\n",
    "\n",
    "[Input_Output](https://github.com/tparchman/BIOL792_course_site/blob/master/week8_python3/python_3_primer.md)\n",
    "\n",
    "[Dictionaries](https://github.com/tparchman/BIOL792_course_site/blob/master/week11_python6/primer_python6.md)\n",
    "\n",
    "\n",
    "### Remember these Common commands as you work through this exercise\n",
    "\tdata types\n",
    "\tlists and dictionaries \n",
    "\tif while and for loops\n",
    "\treading files\n",
    "\n"
   ]
  },
  {
   "cell_type": "code",
   "execution_count": 40,
   "metadata": {},
   "outputs": [],
   "source": [
    "import numpy as np"
   ]
  },
  {
   "cell_type": "code",
   "execution_count": 41,
   "metadata": {},
   "outputs": [],
   "source": [
    "import pandas as pd"
   ]
  },
  {
   "cell_type": "code",
   "execution_count": 166,
   "metadata": {},
   "outputs": [],
   "source": [
    "import matplotlib.pyplot as plt"
   ]
  },
  {
   "cell_type": "markdown",
   "metadata": {},
   "source": [
    "## Part I: Questions"
   ]
  },
  {
   "cell_type": "markdown",
   "metadata": {},
   "source": [
    "1.\tName one of the basic building blocks of programming and a small definition."
   ]
  },
  {
   "cell_type": "markdown",
   "metadata": {},
   "source": [
    "Lists and Dictionaries is one of the main building blocks of programming. List is list of number or strings similar to the arrays.Dictionary is collection of values and keys "
   ]
  },
  {
   "cell_type": "code",
   "execution_count": 1,
   "metadata": {},
   "outputs": [],
   "source": [
    " #Creating a List using multiple values\n",
    "List = [\"Foraminifera\", \"Nanoplankton\", \"Diatom\"]"
   ]
  },
  {
   "cell_type": "code",
   "execution_count": 2,
   "metadata": {},
   "outputs": [
    {
     "data": {
      "text/plain": [
       "'Foraminifera'"
      ]
     },
     "execution_count": 2,
     "metadata": {},
     "output_type": "execute_result"
    }
   ],
   "source": [
    "List[0]"
   ]
  },
  {
   "cell_type": "code",
   "execution_count": 3,
   "metadata": {},
   "outputs": [],
   "source": [
    "#Creating a Dictionary using Keys and values\n",
    "    \n",
    "Dict = {1: 'Foraminifera', 2: 'Nanoplankton', 3: 'Diatom'}"
   ]
  },
  {
   "cell_type": "code",
   "execution_count": 7,
   "metadata": {},
   "outputs": [
    {
     "data": {
      "text/plain": [
       "'Foraminifera'"
      ]
     },
     "execution_count": 7,
     "metadata": {},
     "output_type": "execute_result"
    }
   ],
   "source": [
    "Dict[1]"
   ]
  },
  {
   "cell_type": "code",
   "execution_count": 6,
   "metadata": {},
   "outputs": [
    {
     "data": {
      "text/plain": [
       "'Diatom'"
      ]
     },
     "execution_count": 6,
     "metadata": {},
     "output_type": "execute_result"
    }
   ],
   "source": [
    "Dict[3]"
   ]
  },
  {
   "cell_type": "markdown",
   "metadata": {},
   "source": [
    "---"
   ]
  },
  {
   "cell_type": "markdown",
   "metadata": {},
   "source": [
    "---"
   ]
  },
  {
   "cell_type": "markdown",
   "metadata": {},
   "source": [
    "2.\tMatch the data type to the appropriate data\n",
    "    \n",
    "    **Data type:** string, integer, boolean, floating point\n",
    "    \n",
    "    **Data:** true, 123, 'I am a programmer', 34.63221\n"
   ]
  },
  {
   "cell_type": "markdown",
   "metadata": {},
   "source": [
    "### *true (boolean), 123 (integer),  'I am a programmer' (string), 34.63221 (floating point)*"
   ]
  },
  {
   "cell_type": "markdown",
   "metadata": {},
   "source": [
    "---"
   ]
  },
  {
   "cell_type": "markdown",
   "metadata": {},
   "source": [
    "---"
   ]
  },
  {
   "cell_type": "markdown",
   "metadata": {},
   "source": [
    "3.\tWhat would I get if I did tried to add these to numbers together ```123``` and ```5```.\n",
    "\t\t\n",
    "\t\ta) if the numbers were formatted as strings\n",
    "\t\t\n",
    "\t\tb) if they were formatted as integers"
   ]
  },
  {
   "cell_type": "code",
   "execution_count": 8,
   "metadata": {},
   "outputs": [],
   "source": [
    "a=(1+2+3)+5 # In case of format is integer"
   ]
  },
  {
   "cell_type": "code",
   "execution_count": 9,
   "metadata": {},
   "outputs": [
    {
     "data": {
      "text/plain": [
       "11"
      ]
     },
     "execution_count": 9,
     "metadata": {},
     "output_type": "execute_result"
    }
   ],
   "source": [
    "a"
   ]
  },
  {
   "cell_type": "code",
   "execution_count": 10,
   "metadata": {},
   "outputs": [
    {
     "data": {
      "text/plain": [
       "int"
      ]
     },
     "execution_count": 10,
     "metadata": {},
     "output_type": "execute_result"
    }
   ],
   "source": [
    "type(a)"
   ]
  },
  {
   "cell_type": "code",
   "execution_count": 12,
   "metadata": {},
   "outputs": [],
   "source": [
    "b='(1+2+3)'+'5' # In case of format is String"
   ]
  },
  {
   "cell_type": "code",
   "execution_count": 297,
   "metadata": {},
   "outputs": [
    {
     "data": {
      "text/plain": [
       "'datascieceisahottopic'"
      ]
     },
     "execution_count": 297,
     "metadata": {},
     "output_type": "execute_result"
    }
   ],
   "source": [
    "b"
   ]
  },
  {
   "cell_type": "code",
   "execution_count": 14,
   "metadata": {},
   "outputs": [
    {
     "data": {
      "text/plain": [
       "str"
      ]
     },
     "execution_count": 14,
     "metadata": {},
     "output_type": "execute_result"
    }
   ],
   "source": [
    "type(b)"
   ]
  },
  {
   "cell_type": "markdown",
   "metadata": {},
   "source": [
    "---"
   ]
  },
  {
   "cell_type": "markdown",
   "metadata": {},
   "source": [
    "---"
   ]
  },
  {
   "cell_type": "markdown",
   "metadata": {},
   "source": [
    "4.\tLists, also called vectors, are one dimensional arrays and are a series of items. From the following list what would the question ```apple_list[3]``` return?  Remember we refer to items in a list by their position. Hint – remember how computers count.\n",
    "\t\t\n",
    "\t\t```apple_list=[‘banana’,’pear’,’kumquat’,’pomegranate’,’passion fruit’]```"
   ]
  },
  {
   "cell_type": "code",
   "execution_count": 17,
   "metadata": {},
   "outputs": [],
   "source": [
    "apple_list=[\"banana\", \"pear\",\"kumquat\", \"pomegranate\",\"passion fruit\"] # Create list"
   ]
  },
  {
   "cell_type": "code",
   "execution_count": 18,
   "metadata": {},
   "outputs": [
    {
     "data": {
      "text/plain": [
       "['banana', 'pear', 'kumquat', 'pomegranate', 'passion fruit']"
      ]
     },
     "execution_count": 18,
     "metadata": {},
     "output_type": "execute_result"
    }
   ],
   "source": [
    "apple_list"
   ]
  },
  {
   "cell_type": "code",
   "execution_count": 19,
   "metadata": {},
   "outputs": [
    {
     "data": {
      "text/plain": [
       "'pomegranate'"
      ]
     },
     "execution_count": 19,
     "metadata": {},
     "output_type": "execute_result"
    }
   ],
   "source": [
    "apple_list[3] # pomegranate is fourth string, python start from zero"
   ]
  },
  {
   "cell_type": "code",
   "execution_count": 20,
   "metadata": {},
   "outputs": [
    {
     "data": {
      "text/plain": [
       "'banana'"
      ]
     },
     "execution_count": 20,
     "metadata": {},
     "output_type": "execute_result"
    }
   ],
   "source": [
    "apple_list[0] # first value"
   ]
  },
  {
   "cell_type": "markdown",
   "metadata": {},
   "source": [
    "---"
   ]
  },
  {
   "cell_type": "markdown",
   "metadata": {},
   "source": [
    "---"
   ]
  },
  {
   "cell_type": "markdown",
   "metadata": {},
   "source": [
    "5.\tName a difference between lists and dictionaries?"
   ]
  },
  {
   "cell_type": "markdown",
   "metadata": {},
   "source": [
    "**List:** The indices are integers whcih start from 0, but **Dicrionary:** keys of dictionary can be of any data type.\n",
    "**List:** You can access the elements with indices, but in **Dicrionary:** using key values\n",
    "\n",
    "**List:** Place elemnts in [ ], **Dicrionary:** { }"
   ]
  },
  {
   "cell_type": "markdown",
   "metadata": {},
   "source": [
    "---"
   ]
  },
  {
   "cell_type": "markdown",
   "metadata": {},
   "source": [
    "---"
   ]
  },
  {
   "cell_type": "markdown",
   "metadata": {},
   "source": [
    "6.\tWhat would you get from this question from the following dictionary:  ```fruit_dict[‘pear’]```\n",
    "```\t\t\n",
    "\t\tfruit_dict = {}\n",
    "\t\tfruit_dict[‘apple’]=10\n",
    "\t\tfruit_dict[‘pear’] = 3\n",
    "\t\tfruit_dict[‘walnut’]=216\n",
    "```\n",
    "or in another way\n",
    "\n",
    "\n",
    "```\n",
    "fruit_dict = {\n",
    "    'apple':10,\n",
    "    'pear':3,\n",
    "    'walnut':216,\n",
    "}\n",
    "\n",
    "print(fruit_dict)\n",
    "```\n",
    "\n"
   ]
  },
  {
   "cell_type": "code",
   "execution_count": 27,
   "metadata": {},
   "outputs": [],
   "source": [
    "fruit_dict1 = {}\n",
    "fruit_dict[\"apple\"]=10\n",
    "fruit_dict[\"pear\"] = 3\n",
    "fruit_dict[\"walnut\"]=216\n"
   ]
  },
  {
   "cell_type": "code",
   "execution_count": 31,
   "metadata": {},
   "outputs": [],
   "source": [
    "fruit_dict2 = {\n",
    "    'apple':10,\n",
    "    'pear':3,\n",
    "    'walnut':216,\n",
    "}"
   ]
  },
  {
   "cell_type": "code",
   "execution_count": 32,
   "metadata": {},
   "outputs": [
    {
     "name": "stdout",
     "output_type": "stream",
     "text": [
      "{'apple': 10, 'pear': 3, 'walnut': 216}\n"
     ]
    }
   ],
   "source": [
    "print(fruit_dict1) # print dictionary"
   ]
  },
  {
   "cell_type": "code",
   "execution_count": 35,
   "metadata": {},
   "outputs": [
    {
     "data": {
      "text/plain": [
       "10"
      ]
     },
     "execution_count": 35,
     "metadata": {},
     "output_type": "execute_result"
    }
   ],
   "source": [
    "fruit_dict1['apple']"
   ]
  },
  {
   "cell_type": "code",
   "execution_count": 36,
   "metadata": {},
   "outputs": [
    {
     "data": {
      "text/plain": [
       "10"
      ]
     },
     "execution_count": 36,
     "metadata": {},
     "output_type": "execute_result"
    }
   ],
   "source": [
    "fruit_dict2['apple']"
   ]
  },
  {
   "cell_type": "code",
   "execution_count": 33,
   "metadata": {},
   "outputs": [
    {
     "name": "stdout",
     "output_type": "stream",
     "text": [
      "{'apple': 10, 'pear': 3, 'walnut': 216}\n"
     ]
    }
   ],
   "source": [
    "print(fruit_dict2)"
   ]
  },
  {
   "cell_type": "code",
   "execution_count": null,
   "metadata": {},
   "outputs": [],
   "source": [
    "# Both approach has same results, and we have keys and values"
   ]
  },
  {
   "cell_type": "markdown",
   "metadata": {},
   "source": [
    "---"
   ]
  },
  {
   "cell_type": "markdown",
   "metadata": {},
   "source": [
    "----"
   ]
  },
  {
   "cell_type": "markdown",
   "metadata": {},
   "source": [
    "7.\tIn python what does the function ```.replace()``` do?"
   ]
  },
  {
   "cell_type": "code",
   "execution_count": null,
   "metadata": {},
   "outputs": [],
   "source": [
    "# It replace specific value or string with another value or string"
   ]
  },
  {
   "cell_type": "code",
   "execution_count": 44,
   "metadata": {},
   "outputs": [
    {
     "name": "stdout",
     "output_type": "stream",
     "text": [
      "I may love Data Science\n"
     ]
    }
   ],
   "source": [
    "aa = \"I love Data Science\" #string\n",
    "\n",
    "bb = aa.replace(\"love\", \"may love\") # replace love with may love\n",
    "\n",
    "print(bb)"
   ]
  },
  {
   "cell_type": "markdown",
   "metadata": {},
   "source": [
    "---"
   ]
  },
  {
   "cell_type": "markdown",
   "metadata": {},
   "source": [
    "---"
   ]
  },
  {
   "cell_type": "markdown",
   "metadata": {},
   "source": [
    "8.\tHow do you print something in python?  For example write a print statement to print “hello world!”"
   ]
  },
  {
   "cell_type": "code",
   "execution_count": 45,
   "metadata": {},
   "outputs": [
    {
     "name": "stdout",
     "output_type": "stream",
     "text": [
      "Hello World\n"
     ]
    }
   ],
   "source": [
    "print(\"Hello World\")"
   ]
  },
  {
   "cell_type": "markdown",
   "metadata": {},
   "source": [
    "---"
   ]
  },
  {
   "cell_type": "markdown",
   "metadata": {},
   "source": [
    "9.\tName one place you can go to get help with python?"
   ]
  },
  {
   "cell_type": "code",
   "execution_count": 49,
   "metadata": {},
   "outputs": [],
   "source": [
    "## stackoverflow, also we can use help() option in python"
   ]
  },
  {
   "cell_type": "markdown",
   "metadata": {},
   "source": [
    "---"
   ]
  },
  {
   "cell_type": "markdown",
   "metadata": {},
   "source": [
    "10.\tWhat is an ```if``` statement and when would you use one?"
   ]
  },
  {
   "cell_type": "code",
   "execution_count": null,
   "metadata": {},
   "outputs": [],
   "source": [
    "# it is for making decision based on some criteria"
   ]
  },
  {
   "cell_type": "code",
   "execution_count": 50,
   "metadata": {},
   "outputs": [],
   "source": []
  },
  {
   "cell_type": "code",
   "execution_count": 61,
   "metadata": {},
   "outputs": [
    {
     "name": "stdout",
     "output_type": "stream",
     "text": [
      "it is 5\n"
     ]
    }
   ],
   "source": [
    "Apple=5\n",
    "\n",
    "if Apple>5: # if apple is bigger than 5\n",
    "    print(\"It is great\")\n",
    "elif Apple==5: #if apple is equal to 5\n",
    "    print(\"Number of apple is 5\")\n",
    "else:\n",
    "    print(\"Not enogh apple\")\n"
   ]
  },
  {
   "cell_type": "markdown",
   "metadata": {},
   "source": [
    "----"
   ]
  },
  {
   "cell_type": "markdown",
   "metadata": {},
   "source": [
    "11.\tFrom this list:  ```container_list = [‘can’,’jar’,’hat’]``` What would be returned from this: ```container_list[0:2]```.  Hint: Remember one number is inclusive and one exclusive."
   ]
  },
  {
   "cell_type": "markdown",
   "metadata": {},
   "source": [
    "**The output will be ‘can’ and ’jar’**"
   ]
  },
  {
   "cell_type": "markdown",
   "metadata": {},
   "source": [
    "---"
   ]
  },
  {
   "cell_type": "markdown",
   "metadata": {},
   "source": [
    "12.\tWhat is the difference between an ```if``` statement and a ```while``` loop?\n"
   ]
  },
  {
   "cell_type": "markdown",
   "metadata": {},
   "source": [
    "**if** is a one time operation, but **while** loop is a loop, and while loop will continue until the condition is true."
   ]
  },
  {
   "cell_type": "markdown",
   "metadata": {},
   "source": [
    "---"
   ]
  },
  {
   "cell_type": "markdown",
   "metadata": {},
   "source": [
    "13.\tWhat would you get with the command ```fruit_dict.keys()```  after entering this dictionary:  \n",
    "\t\tfruit_dict = {}\n",
    "\t\tfruit_dict[‘apple’]=10\n",
    "\t\tfruit_dict[‘pear’] = 3\n",
    "\t\tfruit_dict[‘walnut’]=216"
   ]
  },
  {
   "cell_type": "markdown",
   "metadata": {},
   "source": [
    "The output will be  **apple** , **pear**,**walnut**"
   ]
  },
  {
   "cell_type": "markdown",
   "metadata": {},
   "source": [
    "---"
   ]
  },
  {
   "cell_type": "markdown",
   "metadata": {},
   "source": [
    "14.\tIn this statement: ```InFileName = open(InFileName, ‘r’)``` what does the ‘r’ indicate ?"
   ]
  },
  {
   "cell_type": "code",
   "execution_count": null,
   "metadata": {},
   "outputs": [],
   "source": [
    "# r here mean read the file"
   ]
  },
  {
   "cell_type": "markdown",
   "metadata": {},
   "source": [
    "---"
   ]
  },
  {
   "cell_type": "markdown",
   "metadata": {},
   "source": [
    "15.\tWhat does this command do? ```Line.strip(‘\\n’)``` why would you use it when printing out lines to the screen?"
   ]
  },
  {
   "cell_type": "code",
   "execution_count": null,
   "metadata": {},
   "outputs": [],
   "source": [
    "# Creating a newline character form the beginning"
   ]
  },
  {
   "cell_type": "markdown",
   "metadata": {},
   "source": [
    "16.\tHow would you split a line from a csv file into a list"
   ]
  },
  {
   "cell_type": "code",
   "execution_count": 168,
   "metadata": {},
   "outputs": [],
   "source": [
    "import csv\n"
   ]
  },
  {
   "cell_type": "code",
   "execution_count": 194,
   "metadata": {},
   "outputs": [],
   "source": [
    "with open('Bloom_Dataset.csv', 'r') as file: # open the csv file\n",
    "    array= file.readlines() # read the file\n",
    "    array= [row.split(',') for row in array] # split it with comma"
   ]
  },
  {
   "cell_type": "code",
   "execution_count": null,
   "metadata": {},
   "outputs": [],
   "source": []
  },
  {
   "cell_type": "markdown",
   "metadata": {},
   "source": [
    "## Part II:  Practice Scripts\n",
    "Below each question write the name of the script so I can find them. All scripts should be documented with in-line documentation."
   ]
  },
  {
   "cell_type": "markdown",
   "metadata": {},
   "source": [
    "1.\tCreate a documented python script that would \n",
    "\n",
    "\t\t**a.** take this number 112345678911234566 and count the number of 2s in the string and print out the number. \n",
    "\n",
    "\t\t**b.** take a sentence from user input, turn it all to lowercase letters and remove the spaces and count the length and print out the length.  You choose the sentence. \n"
   ]
  },
  {
   "cell_type": "code",
   "execution_count": null,
   "metadata": {},
   "outputs": [],
   "source": [
    "import collections # import collection package for counting"
   ]
  },
  {
   "cell_type": "code",
   "execution_count": 82,
   "metadata": {},
   "outputs": [],
   "source": [
    "a='112345678911234566'"
   ]
  },
  {
   "cell_type": "code",
   "execution_count": 89,
   "metadata": {},
   "outputs": [
    {
     "data": {
      "text/plain": [
       "Counter({'1': 4,\n",
       "         '2': 2,\n",
       "         '3': 2,\n",
       "         '4': 2,\n",
       "         '5': 2,\n",
       "         '6': 3,\n",
       "         '7': 1,\n",
       "         '8': 1,\n",
       "         '9': 1})"
      ]
     },
     "execution_count": 89,
     "metadata": {},
     "output_type": "execute_result"
    }
   ],
   "source": [
    "frequency=collections.Counter(a)\n",
    "frequency # number of repeated times for each number, for 2 is 2. "
   ]
  },
  {
   "cell_type": "code",
   "execution_count": 93,
   "metadata": {},
   "outputs": [],
   "source": [
    "b='DATA SCIECE IS A HOT TOPIC' # create a string list\n"
   ]
  },
  {
   "cell_type": "code",
   "execution_count": 97,
   "metadata": {},
   "outputs": [],
   "source": [
    "b=b.lower().replace(\" \", \"\") # make the string lower case and remove the space"
   ]
  },
  {
   "cell_type": "code",
   "execution_count": 98,
   "metadata": {},
   "outputs": [
    {
     "name": "stdout",
     "output_type": "stream",
     "text": [
      "datascieceisahottopic\n"
     ]
    }
   ],
   "source": [
    "print(b)"
   ]
  },
  {
   "cell_type": "code",
   "execution_count": 100,
   "metadata": {},
   "outputs": [
    {
     "data": {
      "text/plain": [
       "Counter({'d': 1,\n",
       "         'a': 3,\n",
       "         't': 3,\n",
       "         's': 2,\n",
       "         'c': 3,\n",
       "         'i': 3,\n",
       "         'e': 2,\n",
       "         'h': 1,\n",
       "         'o': 2,\n",
       "         'p': 1})"
      ]
     },
     "execution_count": 100,
     "metadata": {},
     "output_type": "execute_result"
    }
   ],
   "source": [
    "frequency=collections.Counter(b) # count the words\n",
    "frequency"
   ]
  },
  {
   "cell_type": "code",
   "execution_count": 104,
   "metadata": {},
   "outputs": [
    {
     "data": {
      "text/plain": [
       "dict_items([('d', 1), ('a', 3), ('t', 3), ('s', 2), ('c', 3), ('i', 3), ('e', 2), ('h', 1), ('o', 2), ('p', 1)])"
      ]
     },
     "execution_count": 104,
     "metadata": {},
     "output_type": "execute_result"
    }
   ],
   "source": [
    "frequency.items()"
   ]
  },
  {
   "cell_type": "markdown",
   "metadata": {},
   "source": [
    "---"
   ]
  },
  {
   "cell_type": "markdown",
   "metadata": {},
   "source": [
    "2.\tCreate a documented python script that will do the following two things. For each task, first write the pseudocode, comment out the pseudocode and beneath the pseudocode write the script.\n",
    "\n",
    "\t\t**a.** Create a list of numbers (any numbers you like). Then loop through the items in the list adding 1 to every number and print those numbers.\n",
    "\n",
    "\t\t**b.** Create a dictionary of animals and their sizes (make up whatever you want). Print out the keys of the dictionary. Make a list of all the animals and then write an if else statement to print out the animal name and the word “big” if the weight is over 20 grams and the word “small” if the weight is less than 20 grams. "
   ]
  },
  {
   "cell_type": "code",
   "execution_count": null,
   "metadata": {},
   "outputs": [],
   "source": [
    "### Part a\n",
    "\n",
    "# Create an empty list and if length of list is less than 1o append a value, then +2"
   ]
  },
  {
   "cell_type": "code",
   "execution_count": 252,
   "metadata": {},
   "outputs": [
    {
     "ename": "TypeError",
     "evalue": "'int' object is not callable",
     "output_type": "error",
     "traceback": [
      "\u001b[0;31m---------------------------------------------------------------------------\u001b[0m",
      "\u001b[0;31mTypeError\u001b[0m                                 Traceback (most recent call last)",
      "\u001b[0;32m<ipython-input-252-e305761d90ee>\u001b[0m in \u001b[0;36m<module>\u001b[0;34m\u001b[0m\n\u001b[1;32m      6\u001b[0m     \u001b[0mi\u001b[0m \u001b[0;34m+=\u001b[0m \u001b[0;36m2\u001b[0m\u001b[0;34m\u001b[0m\u001b[0;34m\u001b[0m\u001b[0m\n\u001b[1;32m      7\u001b[0m \u001b[0;34m\u001b[0m\u001b[0m\n\u001b[0;32m----> 8\u001b[0;31m \u001b[0mprint\u001b[0m\u001b[0;34m(\u001b[0m\u001b[0mlista\u001b[0m\u001b[0;34m)\u001b[0m\u001b[0;34m\u001b[0m\u001b[0;34m\u001b[0m\u001b[0m\n\u001b[0m",
      "\u001b[0;31mTypeError\u001b[0m: 'int' object is not callable"
     ]
    }
   ],
   "source": [
    "lista = [] # Create a empty list\n",
    "i = 0\n",
    "\n",
    "while len(lista) < 10: # if length of list is less than 10\n",
    "    lista.append(i) # add i\n",
    "    i += 2 # plus 2\n",
    "\n",
    "print(lista)"
   ]
  },
  {
   "cell_type": "code",
   "execution_count": 248,
   "metadata": {},
   "outputs": [
    {
     "ename": "TypeError",
     "evalue": "'int' object is not callable",
     "output_type": "error",
     "traceback": [
      "\u001b[0;31m---------------------------------------------------------------------------\u001b[0m",
      "\u001b[0;31mTypeError\u001b[0m                                 Traceback (most recent call last)",
      "\u001b[0;32m<ipython-input-248-d38955f2293d>\u001b[0m in \u001b[0;36m<module>\u001b[0;34m\u001b[0m\n\u001b[1;32m      1\u001b[0m \u001b[0mx\u001b[0m \u001b[0;34m=\u001b[0m \u001b[0mfloat\u001b[0m\u001b[0;34m(\u001b[0m\u001b[0;36m3\u001b[0m\u001b[0;34m)\u001b[0m\u001b[0;34m\u001b[0m\u001b[0;34m\u001b[0m\u001b[0m\n\u001b[1;32m      2\u001b[0m \u001b[0;32mwhile\u001b[0m \u001b[0mx\u001b[0m \u001b[0;34m<\u001b[0m \u001b[0;36m100\u001b[0m\u001b[0;34m:\u001b[0m\u001b[0;34m\u001b[0m\u001b[0;34m\u001b[0m\u001b[0m\n\u001b[0;32m----> 3\u001b[0;31m     \u001b[0mprint\u001b[0m\u001b[0;34m(\u001b[0m\u001b[0mx\u001b[0m\u001b[0;34m)\u001b[0m\u001b[0;34m\u001b[0m\u001b[0;34m\u001b[0m\u001b[0m\n\u001b[0m\u001b[1;32m      4\u001b[0m     \u001b[0mx\u001b[0m \u001b[0;34m+=\u001b[0m \u001b[0;36m1\u001b[0m\u001b[0;34m\u001b[0m\u001b[0;34m\u001b[0m\u001b[0m\n\u001b[1;32m      5\u001b[0m     \u001b[0mprint\u001b[0m\u001b[0;34m(\u001b[0m\u001b[0mx\u001b[0m\u001b[0;34m)\u001b[0m\u001b[0;34m\u001b[0m\u001b[0;34m\u001b[0m\u001b[0m\n",
      "\u001b[0;31mTypeError\u001b[0m: 'int' object is not callable"
     ]
    }
   ],
   "source": [
    "x = float(3)\n",
    "while x < 100:\n",
    "    print(x)\n",
    "    x += 1\n",
    "    print(x)"
   ]
  },
  {
   "cell_type": "code",
   "execution_count": 253,
   "metadata": {},
   "outputs": [],
   "source": [
    "#### Part b"
   ]
  },
  {
   "cell_type": "code",
   "execution_count": 274,
   "metadata": {},
   "outputs": [],
   "source": [
    "animals={\"Tiger\":20, \"Monkey\":15, \"Lion\":35, \"Chiecken\":4}"
   ]
  },
  {
   "cell_type": "code",
   "execution_count": 275,
   "metadata": {},
   "outputs": [
    {
     "data": {
      "text/plain": [
       "dict_keys(['Tiger', 'Monkey', 'Lion', 'Chiecken'])"
      ]
     },
     "execution_count": 275,
     "metadata": {},
     "output_type": "execute_result"
    }
   ],
   "source": [
    "animals.keys()"
   ]
  },
  {
   "cell_type": "code",
   "execution_count": 284,
   "metadata": {},
   "outputs": [],
   "source": [
    "animal2=animals.values()"
   ]
  },
  {
   "cell_type": "code",
   "execution_count": 282,
   "metadata": {},
   "outputs": [
    {
     "data": {
      "text/plain": [
       "dict_values([20, 15, 35, 4])"
      ]
     },
     "execution_count": 282,
     "metadata": {},
     "output_type": "execute_result"
    }
   ],
   "source": [
    "animal2"
   ]
  },
  {
   "cell_type": "code",
   "execution_count": 277,
   "metadata": {},
   "outputs": [
    {
     "data": {
      "text/plain": [
       "20"
      ]
     },
     "execution_count": 277,
     "metadata": {},
     "output_type": "execute_result"
    }
   ],
   "source": [
    "animals[\"Tiger\"]"
   ]
  },
  {
   "cell_type": "code",
   "execution_count": 286,
   "metadata": {},
   "outputs": [],
   "source": [
    "animals=[20,15,35,4]"
   ]
  },
  {
   "cell_type": "code",
   "execution_count": 295,
   "metadata": {},
   "outputs": [
    {
     "ename": "TypeError",
     "evalue": "'int' object is not callable",
     "output_type": "error",
     "traceback": [
      "\u001b[0;31m---------------------------------------------------------------------------\u001b[0m",
      "\u001b[0;31mTypeError\u001b[0m                                 Traceback (most recent call last)",
      "\u001b[0;32m<ipython-input-295-4926aab52dc5>\u001b[0m in \u001b[0;36m<module>\u001b[0;34m\u001b[0m\n\u001b[1;32m      2\u001b[0m     \u001b[0mprint\u001b[0m\u001b[0;34m(\u001b[0m\u001b[0;34m\"Animal is big\"\u001b[0m\u001b[0;34m)\u001b[0m\u001b[0;34m\u001b[0m\u001b[0;34m\u001b[0m\u001b[0m\n\u001b[1;32m      3\u001b[0m \u001b[0;32melif\u001b[0m \u001b[0manimals\u001b[0m\u001b[0;34m!=\u001b[0m\u001b[0;36m20\u001b[0m\u001b[0;34m:\u001b[0m\u001b[0;34m\u001b[0m\u001b[0;34m\u001b[0m\u001b[0m\n\u001b[0;32m----> 4\u001b[0;31m     \u001b[0mprint\u001b[0m\u001b[0;34m(\u001b[0m\u001b[0;34m\"Animal is Small\"\u001b[0m\u001b[0;34m)\u001b[0m\u001b[0;34m\u001b[0m\u001b[0;34m\u001b[0m\u001b[0m\n\u001b[0m",
      "\u001b[0;31mTypeError\u001b[0m: 'int' object is not callable"
     ]
    }
   ],
   "source": [
    "if animals>20:\n",
    "    print(\"Animal is big\")\n",
    "elif animals<20:\n",
    "    print(\"Animal is Small\")  "
   ]
  },
  {
   "cell_type": "markdown",
   "metadata": {},
   "source": [
    "---"
   ]
  },
  {
   "cell_type": "markdown",
   "metadata": {},
   "source": [
    "3.\tCreate a documented python script that will open up the file “Bloom_etal_2018_Reduced_Dataset”.  Read through the file and print out the taxon name and their diadromous status. Add up all of the log body sizes and print out the total log body size for all the individuals in the file.  "
   ]
  },
  {
   "cell_type": "code",
   "execution_count": 132,
   "metadata": {},
   "outputs": [],
   "source": [
    "Bloom=pd.read_csv(\"Bloom_Dataset.csv\")"
   ]
  },
  {
   "cell_type": "code",
   "execution_count": 143,
   "metadata": {},
   "outputs": [
    {
     "data": {
      "text/html": [
       "<div>\n",
       "<style scoped>\n",
       "    .dataframe tbody tr th:only-of-type {\n",
       "        vertical-align: middle;\n",
       "    }\n",
       "\n",
       "    .dataframe tbody tr th {\n",
       "        vertical-align: top;\n",
       "    }\n",
       "\n",
       "    .dataframe thead th {\n",
       "        text-align: right;\n",
       "    }\n",
       "</style>\n",
       "<table border=\"1\" class=\"dataframe\">\n",
       "  <thead>\n",
       "    <tr style=\"text-align: right;\">\n",
       "      <th></th>\n",
       "      <th>taxa</th>\n",
       "      <th>logbodysize</th>\n",
       "      <th>trophic_position</th>\n",
       "      <th>Reg</th>\n",
       "    </tr>\n",
       "  </thead>\n",
       "  <tbody>\n",
       "    <tr>\n",
       "      <th>0</th>\n",
       "      <td>Alosa_alabamae</td>\n",
       "      <td>1.707570</td>\n",
       "      <td>0.431364</td>\n",
       "      <td>diadromous</td>\n",
       "    </tr>\n",
       "    <tr>\n",
       "      <th>1</th>\n",
       "      <td>Alosa_alosa</td>\n",
       "      <td>1.778151</td>\n",
       "      <td>0.556303</td>\n",
       "      <td>diadromous</td>\n",
       "    </tr>\n",
       "    <tr>\n",
       "      <th>2</th>\n",
       "      <td>Alosa_fallax</td>\n",
       "      <td>1.778151</td>\n",
       "      <td>0.556303</td>\n",
       "      <td>diadromous</td>\n",
       "    </tr>\n",
       "    <tr>\n",
       "      <th>3</th>\n",
       "      <td>Alosa_mediocris</td>\n",
       "      <td>1.778151</td>\n",
       "      <td>0.612784</td>\n",
       "      <td>diadromous</td>\n",
       "    </tr>\n",
       "    <tr>\n",
       "      <th>4</th>\n",
       "      <td>Alosa_pseudoharengus</td>\n",
       "      <td>1.602060</td>\n",
       "      <td>0.544068</td>\n",
       "      <td>diadromous</td>\n",
       "    </tr>\n",
       "    <tr>\n",
       "      <th>5</th>\n",
       "      <td>Alosa_sapidissima</td>\n",
       "      <td>1.790285</td>\n",
       "      <td>0.544068</td>\n",
       "      <td>diadromous</td>\n",
       "    </tr>\n",
       "    <tr>\n",
       "      <th>6</th>\n",
       "      <td>Amazonsprattus_scintilla</td>\n",
       "      <td>0.301030</td>\n",
       "      <td>0.531479</td>\n",
       "      <td>non-diadromous</td>\n",
       "    </tr>\n",
       "    <tr>\n",
       "      <th>7</th>\n",
       "      <td>Anchoa_chamensis</td>\n",
       "      <td>0.778151</td>\n",
       "      <td>0.518514</td>\n",
       "      <td>non-diadromous</td>\n",
       "    </tr>\n",
       "    <tr>\n",
       "      <th>8</th>\n",
       "      <td>Anchoa_cubana</td>\n",
       "      <td>0.845098</td>\n",
       "      <td>0.518514</td>\n",
       "      <td>non-diadromous</td>\n",
       "    </tr>\n",
       "    <tr>\n",
       "      <th>9</th>\n",
       "      <td>Anchoa_delicatissima</td>\n",
       "      <td>0.903090</td>\n",
       "      <td>0.518514</td>\n",
       "      <td>non-diadromous</td>\n",
       "    </tr>\n",
       "  </tbody>\n",
       "</table>\n",
       "</div>"
      ],
      "text/plain": [
       "                       taxa  logbodysize  trophic_position             Reg\n",
       "0            Alosa_alabamae     1.707570          0.431364      diadromous\n",
       "1               Alosa_alosa     1.778151          0.556303      diadromous\n",
       "2              Alosa_fallax     1.778151          0.556303      diadromous\n",
       "3           Alosa_mediocris     1.778151          0.612784      diadromous\n",
       "4      Alosa_pseudoharengus     1.602060          0.544068      diadromous\n",
       "5         Alosa_sapidissima     1.790285          0.544068      diadromous\n",
       "6  Amazonsprattus_scintilla     0.301030          0.531479  non-diadromous\n",
       "7          Anchoa_chamensis     0.778151          0.518514  non-diadromous\n",
       "8             Anchoa_cubana     0.845098          0.518514  non-diadromous\n",
       "9      Anchoa_delicatissima     0.903090          0.518514  non-diadromous"
      ]
     },
     "execution_count": 143,
     "metadata": {},
     "output_type": "execute_result"
    }
   ],
   "source": [
    "Bloom.head(10)"
   ]
  },
  {
   "cell_type": "code",
   "execution_count": 129,
   "metadata": {},
   "outputs": [
    {
     "data": {
      "text/plain": [
       "Index(['taxa', 'logbodysize', 'trophic_position', 'Reg'], dtype='object')"
      ]
     },
     "execution_count": 129,
     "metadata": {},
     "output_type": "execute_result"
    }
   ],
   "source": [
    "Bloom.columns"
   ]
  },
  {
   "cell_type": "code",
   "execution_count": 141,
   "metadata": {},
   "outputs": [
    {
     "data": {
      "text/html": [
       "<div>\n",
       "<style scoped>\n",
       "    .dataframe tbody tr th:only-of-type {\n",
       "        vertical-align: middle;\n",
       "    }\n",
       "\n",
       "    .dataframe tbody tr th {\n",
       "        vertical-align: top;\n",
       "    }\n",
       "\n",
       "    .dataframe thead th {\n",
       "        text-align: right;\n",
       "    }\n",
       "</style>\n",
       "<table border=\"1\" class=\"dataframe\">\n",
       "  <thead>\n",
       "    <tr style=\"text-align: right;\">\n",
       "      <th></th>\n",
       "      <th>taxa</th>\n",
       "      <th>Reg</th>\n",
       "    </tr>\n",
       "  </thead>\n",
       "  <tbody>\n",
       "    <tr>\n",
       "      <th>0</th>\n",
       "      <td>Alosa_alabamae</td>\n",
       "      <td>diadromous</td>\n",
       "    </tr>\n",
       "    <tr>\n",
       "      <th>1</th>\n",
       "      <td>Alosa_alosa</td>\n",
       "      <td>diadromous</td>\n",
       "    </tr>\n",
       "    <tr>\n",
       "      <th>2</th>\n",
       "      <td>Alosa_fallax</td>\n",
       "      <td>diadromous</td>\n",
       "    </tr>\n",
       "    <tr>\n",
       "      <th>3</th>\n",
       "      <td>Alosa_mediocris</td>\n",
       "      <td>diadromous</td>\n",
       "    </tr>\n",
       "    <tr>\n",
       "      <th>4</th>\n",
       "      <td>Alosa_pseudoharengus</td>\n",
       "      <td>diadromous</td>\n",
       "    </tr>\n",
       "    <tr>\n",
       "      <th>5</th>\n",
       "      <td>Alosa_sapidissima</td>\n",
       "      <td>diadromous</td>\n",
       "    </tr>\n",
       "    <tr>\n",
       "      <th>6</th>\n",
       "      <td>Amazonsprattus_scintilla</td>\n",
       "      <td>non-diadromous</td>\n",
       "    </tr>\n",
       "    <tr>\n",
       "      <th>7</th>\n",
       "      <td>Anchoa_chamensis</td>\n",
       "      <td>non-diadromous</td>\n",
       "    </tr>\n",
       "    <tr>\n",
       "      <th>8</th>\n",
       "      <td>Anchoa_cubana</td>\n",
       "      <td>non-diadromous</td>\n",
       "    </tr>\n",
       "    <tr>\n",
       "      <th>9</th>\n",
       "      <td>Anchoa_delicatissima</td>\n",
       "      <td>non-diadromous</td>\n",
       "    </tr>\n",
       "    <tr>\n",
       "      <th>10</th>\n",
       "      <td>Anchoa_lamprotaenia</td>\n",
       "      <td>non-diadromous</td>\n",
       "    </tr>\n",
       "    <tr>\n",
       "      <th>11</th>\n",
       "      <td>Anchoa_lyolepis</td>\n",
       "      <td>non-diadromous</td>\n",
       "    </tr>\n",
       "    <tr>\n",
       "      <th>12</th>\n",
       "      <td>Anchoa_parva</td>\n",
       "      <td>non-diadromous</td>\n",
       "    </tr>\n",
       "    <tr>\n",
       "      <th>13</th>\n",
       "      <td>Anchoa_schofieldi</td>\n",
       "      <td>non-diadromous</td>\n",
       "    </tr>\n",
       "    <tr>\n",
       "      <th>14</th>\n",
       "      <td>Anchovia_surinamensis</td>\n",
       "      <td>non-diadromous</td>\n",
       "    </tr>\n",
       "    <tr>\n",
       "      <th>15</th>\n",
       "      <td>Anchoviella_balboae</td>\n",
       "      <td>non-diadromous</td>\n",
       "    </tr>\n",
       "    <tr>\n",
       "      <th>16</th>\n",
       "      <td>Anchoviella_brevirostris</td>\n",
       "      <td>non-diadromous</td>\n",
       "    </tr>\n",
       "    <tr>\n",
       "      <th>17</th>\n",
       "      <td>Anchoviella_jamesi</td>\n",
       "      <td>non-diadromous</td>\n",
       "    </tr>\n",
       "    <tr>\n",
       "      <th>18</th>\n",
       "      <td>Anchoviella_lepidentostole</td>\n",
       "      <td>diadromous</td>\n",
       "    </tr>\n",
       "    <tr>\n",
       "      <th>19</th>\n",
       "      <td>Anchoviella_manamensis</td>\n",
       "      <td>non-diadromous</td>\n",
       "    </tr>\n",
       "    <tr>\n",
       "      <th>20</th>\n",
       "      <td>Anodontostoma_chacunda</td>\n",
       "      <td>diadromous</td>\n",
       "    </tr>\n",
       "    <tr>\n",
       "      <th>21</th>\n",
       "      <td>Cetengraulis_edentulus</td>\n",
       "      <td>non-diadromous</td>\n",
       "    </tr>\n",
       "    <tr>\n",
       "      <th>22</th>\n",
       "      <td>Chirocentrodon_bleekerianus</td>\n",
       "      <td>non-diadromous</td>\n",
       "    </tr>\n",
       "    <tr>\n",
       "      <th>23</th>\n",
       "      <td>Clupeichthys_perakensis</td>\n",
       "      <td>non-diadromous</td>\n",
       "    </tr>\n",
       "    <tr>\n",
       "      <th>24</th>\n",
       "      <td>Clupeoides_borneensis</td>\n",
       "      <td>non-diadromous</td>\n",
       "    </tr>\n",
       "    <tr>\n",
       "      <th>25</th>\n",
       "      <td>Coilia_nasus</td>\n",
       "      <td>diadromous</td>\n",
       "    </tr>\n",
       "    <tr>\n",
       "      <th>26</th>\n",
       "      <td>Ehirava_fluviatilis</td>\n",
       "      <td>non-diadromous</td>\n",
       "    </tr>\n",
       "    <tr>\n",
       "      <th>27</th>\n",
       "      <td>Encrasicholina_devisi</td>\n",
       "      <td>non-diadromous</td>\n",
       "    </tr>\n",
       "    <tr>\n",
       "      <th>28</th>\n",
       "      <td>Engraulis_eurystole</td>\n",
       "      <td>non-diadromous</td>\n",
       "    </tr>\n",
       "    <tr>\n",
       "      <th>29</th>\n",
       "      <td>Escualosa_thoracata</td>\n",
       "      <td>non-diadromous</td>\n",
       "    </tr>\n",
       "    <tr>\n",
       "      <th>30</th>\n",
       "      <td>Ethmalosa_fimbriata</td>\n",
       "      <td>diadromous</td>\n",
       "    </tr>\n",
       "    <tr>\n",
       "      <th>31</th>\n",
       "      <td>Gilchristella_aestuaria</td>\n",
       "      <td>non-diadromous</td>\n",
       "    </tr>\n",
       "    <tr>\n",
       "      <th>32</th>\n",
       "      <td>Hilsa_kelee</td>\n",
       "      <td>diadromous</td>\n",
       "    </tr>\n",
       "    <tr>\n",
       "      <th>33</th>\n",
       "      <td>Hyperlophus_vittatus</td>\n",
       "      <td>non-diadromous</td>\n",
       "    </tr>\n",
       "    <tr>\n",
       "      <th>34</th>\n",
       "      <td>Jenkinsia_lamprotaenia</td>\n",
       "      <td>non-diadromous</td>\n",
       "    </tr>\n",
       "    <tr>\n",
       "      <th>35</th>\n",
       "      <td>Microthrissa_congica</td>\n",
       "      <td>non-diadromous</td>\n",
       "    </tr>\n",
       "    <tr>\n",
       "      <th>36</th>\n",
       "      <td>Pellona_harroweri</td>\n",
       "      <td>non-diadromous</td>\n",
       "    </tr>\n",
       "    <tr>\n",
       "      <th>37</th>\n",
       "      <td>Pellonula_leonensis</td>\n",
       "      <td>diadromous</td>\n",
       "    </tr>\n",
       "    <tr>\n",
       "      <th>38</th>\n",
       "      <td>Pellonula_vorax</td>\n",
       "      <td>diadromous</td>\n",
       "    </tr>\n",
       "    <tr>\n",
       "      <th>39</th>\n",
       "      <td>Potamalosa_richmondia</td>\n",
       "      <td>diadromous</td>\n",
       "    </tr>\n",
       "    <tr>\n",
       "      <th>40</th>\n",
       "      <td>Ramnogaster_sp</td>\n",
       "      <td>non-diadromous</td>\n",
       "    </tr>\n",
       "    <tr>\n",
       "      <th>41</th>\n",
       "      <td>Rhinosardinia_bahiensis</td>\n",
       "      <td>non-diadromous</td>\n",
       "    </tr>\n",
       "    <tr>\n",
       "      <th>42</th>\n",
       "      <td>Sauvagella_robusta</td>\n",
       "      <td>non-diadromous</td>\n",
       "    </tr>\n",
       "    <tr>\n",
       "      <th>43</th>\n",
       "      <td>Sierrathrissa_leonensis</td>\n",
       "      <td>non-diadromous</td>\n",
       "    </tr>\n",
       "    <tr>\n",
       "      <th>44</th>\n",
       "      <td>Spratelloides_delicatulus</td>\n",
       "      <td>non-diadromous</td>\n",
       "    </tr>\n",
       "    <tr>\n",
       "      <th>45</th>\n",
       "      <td>Stolephorus_waitei</td>\n",
       "      <td>non-diadromous</td>\n",
       "    </tr>\n",
       "    <tr>\n",
       "      <th>46</th>\n",
       "      <td>Stolothrissa_tanganicae</td>\n",
       "      <td>non-diadromous</td>\n",
       "    </tr>\n",
       "    <tr>\n",
       "      <th>47</th>\n",
       "      <td>Sundasalanx_mekongensis</td>\n",
       "      <td>non-diadromous</td>\n",
       "    </tr>\n",
       "    <tr>\n",
       "      <th>48</th>\n",
       "      <td>Tenualosa_ilisha</td>\n",
       "      <td>diadromous</td>\n",
       "    </tr>\n",
       "    <tr>\n",
       "      <th>49</th>\n",
       "      <td>Thryssa_cf_dussumieri</td>\n",
       "      <td>non-diadromous</td>\n",
       "    </tr>\n",
       "  </tbody>\n",
       "</table>\n",
       "</div>"
      ],
      "text/plain": [
       "                           taxa             Reg\n",
       "0                Alosa_alabamae      diadromous\n",
       "1                   Alosa_alosa      diadromous\n",
       "2                  Alosa_fallax      diadromous\n",
       "3               Alosa_mediocris      diadromous\n",
       "4          Alosa_pseudoharengus      diadromous\n",
       "5             Alosa_sapidissima      diadromous\n",
       "6      Amazonsprattus_scintilla  non-diadromous\n",
       "7              Anchoa_chamensis  non-diadromous\n",
       "8                 Anchoa_cubana  non-diadromous\n",
       "9          Anchoa_delicatissima  non-diadromous\n",
       "10          Anchoa_lamprotaenia  non-diadromous\n",
       "11              Anchoa_lyolepis  non-diadromous\n",
       "12                 Anchoa_parva  non-diadromous\n",
       "13            Anchoa_schofieldi  non-diadromous\n",
       "14        Anchovia_surinamensis  non-diadromous\n",
       "15          Anchoviella_balboae  non-diadromous\n",
       "16     Anchoviella_brevirostris  non-diadromous\n",
       "17           Anchoviella_jamesi  non-diadromous\n",
       "18   Anchoviella_lepidentostole      diadromous\n",
       "19       Anchoviella_manamensis  non-diadromous\n",
       "20       Anodontostoma_chacunda      diadromous\n",
       "21       Cetengraulis_edentulus  non-diadromous\n",
       "22  Chirocentrodon_bleekerianus  non-diadromous\n",
       "23      Clupeichthys_perakensis  non-diadromous\n",
       "24        Clupeoides_borneensis  non-diadromous\n",
       "25                 Coilia_nasus      diadromous\n",
       "26          Ehirava_fluviatilis  non-diadromous\n",
       "27        Encrasicholina_devisi  non-diadromous\n",
       "28          Engraulis_eurystole  non-diadromous\n",
       "29          Escualosa_thoracata  non-diadromous\n",
       "30          Ethmalosa_fimbriata      diadromous\n",
       "31      Gilchristella_aestuaria  non-diadromous\n",
       "32                  Hilsa_kelee      diadromous\n",
       "33         Hyperlophus_vittatus  non-diadromous\n",
       "34       Jenkinsia_lamprotaenia  non-diadromous\n",
       "35         Microthrissa_congica  non-diadromous\n",
       "36            Pellona_harroweri  non-diadromous\n",
       "37          Pellonula_leonensis      diadromous\n",
       "38              Pellonula_vorax      diadromous\n",
       "39        Potamalosa_richmondia      diadromous\n",
       "40               Ramnogaster_sp  non-diadromous\n",
       "41      Rhinosardinia_bahiensis  non-diadromous\n",
       "42           Sauvagella_robusta  non-diadromous\n",
       "43      Sierrathrissa_leonensis  non-diadromous\n",
       "44    Spratelloides_delicatulus  non-diadromous\n",
       "45           Stolephorus_waitei  non-diadromous\n",
       "46      Stolothrissa_tanganicae  non-diadromous\n",
       "47      Sundasalanx_mekongensis  non-diadromous\n",
       "48             Tenualosa_ilisha      diadromous\n",
       "49        Thryssa_cf_dussumieri  non-diadromous"
      ]
     },
     "execution_count": 141,
     "metadata": {},
     "output_type": "execute_result"
    }
   ],
   "source": [
    "## List of all taxa\n",
    "Bloom[[\"taxa\", \"Reg\"]]"
   ]
  },
  {
   "cell_type": "code",
   "execution_count": 153,
   "metadata": {},
   "outputs": [],
   "source": [
    "Sum_bodysize=Bloom[\"logbodysize\"].sum()"
   ]
  },
  {
   "cell_type": "code",
   "execution_count": 154,
   "metadata": {},
   "outputs": [
    {
     "data": {
      "text/plain": [
       "52.079318752"
      ]
     },
     "execution_count": 154,
     "metadata": {},
     "output_type": "execute_result"
    }
   ],
   "source": [
    "Sum_bodysize"
   ]
  },
  {
   "cell_type": "code",
   "execution_count": 155,
   "metadata": {},
   "outputs": [
    {
     "data": {
      "text/plain": [
       "52.08"
      ]
     },
     "execution_count": 155,
     "metadata": {},
     "output_type": "execute_result"
    }
   ],
   "source": [
    "round(Sum_bodysize,2)"
   ]
  },
  {
   "cell_type": "code",
   "execution_count": 162,
   "metadata": {},
   "outputs": [
    {
     "data": {
      "text/html": [
       "<div>\n",
       "<style scoped>\n",
       "    .dataframe tbody tr th:only-of-type {\n",
       "        vertical-align: middle;\n",
       "    }\n",
       "\n",
       "    .dataframe tbody tr th {\n",
       "        vertical-align: top;\n",
       "    }\n",
       "\n",
       "    .dataframe thead th {\n",
       "        text-align: right;\n",
       "    }\n",
       "</style>\n",
       "<table border=\"1\" class=\"dataframe\">\n",
       "  <thead>\n",
       "    <tr style=\"text-align: right;\">\n",
       "      <th></th>\n",
       "      <th>logbodysize</th>\n",
       "      <th>trophic_position</th>\n",
       "    </tr>\n",
       "    <tr>\n",
       "      <th>taxa</th>\n",
       "      <th></th>\n",
       "      <th></th>\n",
       "    </tr>\n",
       "  </thead>\n",
       "  <tbody>\n",
       "    <tr>\n",
       "      <th>Alosa_alabamae</th>\n",
       "      <td>1.707570</td>\n",
       "      <td>0.431364</td>\n",
       "    </tr>\n",
       "    <tr>\n",
       "      <th>Alosa_alosa</th>\n",
       "      <td>1.778151</td>\n",
       "      <td>0.556303</td>\n",
       "    </tr>\n",
       "    <tr>\n",
       "      <th>Alosa_fallax</th>\n",
       "      <td>1.778151</td>\n",
       "      <td>0.556303</td>\n",
       "    </tr>\n",
       "    <tr>\n",
       "      <th>Alosa_mediocris</th>\n",
       "      <td>1.778151</td>\n",
       "      <td>0.612784</td>\n",
       "    </tr>\n",
       "    <tr>\n",
       "      <th>Alosa_pseudoharengus</th>\n",
       "      <td>1.602060</td>\n",
       "      <td>0.544068</td>\n",
       "    </tr>\n",
       "    <tr>\n",
       "      <th>Alosa_sapidissima</th>\n",
       "      <td>1.790285</td>\n",
       "      <td>0.544068</td>\n",
       "    </tr>\n",
       "    <tr>\n",
       "      <th>Amazonsprattus_scintilla</th>\n",
       "      <td>0.301030</td>\n",
       "      <td>0.531479</td>\n",
       "    </tr>\n",
       "    <tr>\n",
       "      <th>Anchoa_chamensis</th>\n",
       "      <td>0.778151</td>\n",
       "      <td>0.518514</td>\n",
       "    </tr>\n",
       "    <tr>\n",
       "      <th>Anchoa_cubana</th>\n",
       "      <td>0.845098</td>\n",
       "      <td>0.518514</td>\n",
       "    </tr>\n",
       "    <tr>\n",
       "      <th>Anchoa_delicatissima</th>\n",
       "      <td>0.903090</td>\n",
       "      <td>0.518514</td>\n",
       "    </tr>\n",
       "    <tr>\n",
       "      <th>Anchoa_lamprotaenia</th>\n",
       "      <td>0.963788</td>\n",
       "      <td>0.531479</td>\n",
       "    </tr>\n",
       "    <tr>\n",
       "      <th>Anchoa_lyolepis</th>\n",
       "      <td>0.845098</td>\n",
       "      <td>0.531479</td>\n",
       "    </tr>\n",
       "    <tr>\n",
       "      <th>Anchoa_parva</th>\n",
       "      <td>0.778151</td>\n",
       "      <td>0.518514</td>\n",
       "    </tr>\n",
       "    <tr>\n",
       "      <th>Anchoa_schofieldi</th>\n",
       "      <td>0.792392</td>\n",
       "      <td>0.518514</td>\n",
       "    </tr>\n",
       "    <tr>\n",
       "      <th>Anchovia_surinamensis</th>\n",
       "      <td>1.093422</td>\n",
       "      <td>0.477121</td>\n",
       "    </tr>\n",
       "    <tr>\n",
       "      <th>Anchoviella_balboae</th>\n",
       "      <td>0.857332</td>\n",
       "      <td>0.505150</td>\n",
       "    </tr>\n",
       "    <tr>\n",
       "      <th>Anchoviella_brevirostris</th>\n",
       "      <td>0.857332</td>\n",
       "      <td>0.505150</td>\n",
       "    </tr>\n",
       "    <tr>\n",
       "      <th>Anchoviella_jamesi</th>\n",
       "      <td>0.698970</td>\n",
       "      <td>0.491362</td>\n",
       "    </tr>\n",
       "    <tr>\n",
       "      <th>Anchoviella_lepidentostole</th>\n",
       "      <td>1.064458</td>\n",
       "      <td>0.491362</td>\n",
       "    </tr>\n",
       "    <tr>\n",
       "      <th>Anchoviella_manamensis</th>\n",
       "      <td>0.397940</td>\n",
       "      <td>0.491362</td>\n",
       "    </tr>\n",
       "    <tr>\n",
       "      <th>Anodontostoma_chacunda</th>\n",
       "      <td>1.342423</td>\n",
       "      <td>0.447158</td>\n",
       "    </tr>\n",
       "    <tr>\n",
       "      <th>Cetengraulis_edentulus</th>\n",
       "      <td>1.113943</td>\n",
       "      <td>0.322219</td>\n",
       "    </tr>\n",
       "    <tr>\n",
       "      <th>Chirocentrodon_bleekerianus</th>\n",
       "      <td>0.954243</td>\n",
       "      <td>0.518514</td>\n",
       "    </tr>\n",
       "    <tr>\n",
       "      <th>Clupeichthys_perakensis</th>\n",
       "      <td>0.602060</td>\n",
       "      <td>0.477121</td>\n",
       "    </tr>\n",
       "    <tr>\n",
       "      <th>Clupeoides_borneensis</th>\n",
       "      <td>0.903090</td>\n",
       "      <td>0.491362</td>\n",
       "    </tr>\n",
       "    <tr>\n",
       "      <th>Coilia_nasus</th>\n",
       "      <td>1.544068</td>\n",
       "      <td>0.477121</td>\n",
       "    </tr>\n",
       "    <tr>\n",
       "      <th>Ehirava_fluviatilis</th>\n",
       "      <td>0.698970</td>\n",
       "      <td>0.491362</td>\n",
       "    </tr>\n",
       "    <tr>\n",
       "      <th>Encrasicholina_devisi</th>\n",
       "      <td>0.903090</td>\n",
       "      <td>0.518514</td>\n",
       "    </tr>\n",
       "    <tr>\n",
       "      <th>Engraulis_eurystole</th>\n",
       "      <td>1.190332</td>\n",
       "      <td>0.462398</td>\n",
       "    </tr>\n",
       "    <tr>\n",
       "      <th>Escualosa_thoracata</th>\n",
       "      <td>1.000000</td>\n",
       "      <td>0.505150</td>\n",
       "    </tr>\n",
       "    <tr>\n",
       "      <th>Ethmalosa_fimbriata</th>\n",
       "      <td>1.544068</td>\n",
       "      <td>0.397940</td>\n",
       "    </tr>\n",
       "    <tr>\n",
       "      <th>Gilchristella_aestuaria</th>\n",
       "      <td>1.000000</td>\n",
       "      <td>0.491362</td>\n",
       "    </tr>\n",
       "    <tr>\n",
       "      <th>Hilsa_kelee</th>\n",
       "      <td>1.387390</td>\n",
       "      <td>0.462398</td>\n",
       "    </tr>\n",
       "    <tr>\n",
       "      <th>Hyperlophus_vittatus</th>\n",
       "      <td>1.000000</td>\n",
       "      <td>0.531479</td>\n",
       "    </tr>\n",
       "    <tr>\n",
       "      <th>Jenkinsia_lamprotaenia</th>\n",
       "      <td>0.838849</td>\n",
       "      <td>0.518514</td>\n",
       "    </tr>\n",
       "    <tr>\n",
       "      <th>Microthrissa_congica</th>\n",
       "      <td>0.778151</td>\n",
       "      <td>0.491362</td>\n",
       "    </tr>\n",
       "    <tr>\n",
       "      <th>Pellona_harroweri</th>\n",
       "      <td>1.113943</td>\n",
       "      <td>0.623249</td>\n",
       "    </tr>\n",
       "    <tr>\n",
       "      <th>Pellonula_leonensis</th>\n",
       "      <td>0.929419</td>\n",
       "      <td>0.518514</td>\n",
       "    </tr>\n",
       "    <tr>\n",
       "      <th>Pellonula_vorax</th>\n",
       "      <td>1.079181</td>\n",
       "      <td>0.491362</td>\n",
       "    </tr>\n",
       "    <tr>\n",
       "      <th>Potamalosa_richmondia</th>\n",
       "      <td>1.505150</td>\n",
       "      <td>0.518514</td>\n",
       "    </tr>\n",
       "    <tr>\n",
       "      <th>Ramnogaster_sp</th>\n",
       "      <td>0.903090</td>\n",
       "      <td>0.531479</td>\n",
       "    </tr>\n",
       "    <tr>\n",
       "      <th>Rhinosardinia_bahiensis</th>\n",
       "      <td>0.903090</td>\n",
       "      <td>0.531479</td>\n",
       "    </tr>\n",
       "    <tr>\n",
       "      <th>Sauvagella_robusta</th>\n",
       "      <td>0.672098</td>\n",
       "      <td>0.491362</td>\n",
       "    </tr>\n",
       "    <tr>\n",
       "      <th>Sierrathrissa_leonensis</th>\n",
       "      <td>0.477121</td>\n",
       "      <td>0.491362</td>\n",
       "    </tr>\n",
       "    <tr>\n",
       "      <th>Spratelloides_delicatulus</th>\n",
       "      <td>0.845098</td>\n",
       "      <td>0.491362</td>\n",
       "    </tr>\n",
       "    <tr>\n",
       "      <th>Stolephorus_waitei</th>\n",
       "      <td>0.973128</td>\n",
       "      <td>0.518514</td>\n",
       "    </tr>\n",
       "    <tr>\n",
       "      <th>Stolothrissa_tanganicae</th>\n",
       "      <td>1.000000</td>\n",
       "      <td>0.431364</td>\n",
       "    </tr>\n",
       "    <tr>\n",
       "      <th>Sundasalanx_mekongensis</th>\n",
       "      <td>0.447158</td>\n",
       "      <td>0.491362</td>\n",
       "    </tr>\n",
       "    <tr>\n",
       "      <th>Tenualosa_ilisha</th>\n",
       "      <td>1.778151</td>\n",
       "      <td>0.462398</td>\n",
       "    </tr>\n",
       "    <tr>\n",
       "      <th>Thryssa_cf_dussumieri</th>\n",
       "      <td>1.041393</td>\n",
       "      <td>0.447158</td>\n",
       "    </tr>\n",
       "  </tbody>\n",
       "</table>\n",
       "</div>"
      ],
      "text/plain": [
       "                             logbodysize  trophic_position\n",
       "taxa                                                      \n",
       "Alosa_alabamae                  1.707570          0.431364\n",
       "Alosa_alosa                     1.778151          0.556303\n",
       "Alosa_fallax                    1.778151          0.556303\n",
       "Alosa_mediocris                 1.778151          0.612784\n",
       "Alosa_pseudoharengus            1.602060          0.544068\n",
       "Alosa_sapidissima               1.790285          0.544068\n",
       "Amazonsprattus_scintilla        0.301030          0.531479\n",
       "Anchoa_chamensis                0.778151          0.518514\n",
       "Anchoa_cubana                   0.845098          0.518514\n",
       "Anchoa_delicatissima            0.903090          0.518514\n",
       "Anchoa_lamprotaenia             0.963788          0.531479\n",
       "Anchoa_lyolepis                 0.845098          0.531479\n",
       "Anchoa_parva                    0.778151          0.518514\n",
       "Anchoa_schofieldi               0.792392          0.518514\n",
       "Anchovia_surinamensis           1.093422          0.477121\n",
       "Anchoviella_balboae             0.857332          0.505150\n",
       "Anchoviella_brevirostris        0.857332          0.505150\n",
       "Anchoviella_jamesi              0.698970          0.491362\n",
       "Anchoviella_lepidentostole      1.064458          0.491362\n",
       "Anchoviella_manamensis          0.397940          0.491362\n",
       "Anodontostoma_chacunda          1.342423          0.447158\n",
       "Cetengraulis_edentulus          1.113943          0.322219\n",
       "Chirocentrodon_bleekerianus     0.954243          0.518514\n",
       "Clupeichthys_perakensis         0.602060          0.477121\n",
       "Clupeoides_borneensis           0.903090          0.491362\n",
       "Coilia_nasus                    1.544068          0.477121\n",
       "Ehirava_fluviatilis             0.698970          0.491362\n",
       "Encrasicholina_devisi           0.903090          0.518514\n",
       "Engraulis_eurystole             1.190332          0.462398\n",
       "Escualosa_thoracata             1.000000          0.505150\n",
       "Ethmalosa_fimbriata             1.544068          0.397940\n",
       "Gilchristella_aestuaria         1.000000          0.491362\n",
       "Hilsa_kelee                     1.387390          0.462398\n",
       "Hyperlophus_vittatus            1.000000          0.531479\n",
       "Jenkinsia_lamprotaenia          0.838849          0.518514\n",
       "Microthrissa_congica            0.778151          0.491362\n",
       "Pellona_harroweri               1.113943          0.623249\n",
       "Pellonula_leonensis             0.929419          0.518514\n",
       "Pellonula_vorax                 1.079181          0.491362\n",
       "Potamalosa_richmondia           1.505150          0.518514\n",
       "Ramnogaster_sp                  0.903090          0.531479\n",
       "Rhinosardinia_bahiensis         0.903090          0.531479\n",
       "Sauvagella_robusta              0.672098          0.491362\n",
       "Sierrathrissa_leonensis         0.477121          0.491362\n",
       "Spratelloides_delicatulus       0.845098          0.491362\n",
       "Stolephorus_waitei              0.973128          0.518514\n",
       "Stolothrissa_tanganicae         1.000000          0.431364\n",
       "Sundasalanx_mekongensis         0.447158          0.491362\n",
       "Tenualosa_ilisha                1.778151          0.462398\n",
       "Thryssa_cf_dussumieri           1.041393          0.447158"
      ]
     },
     "execution_count": 162,
     "metadata": {},
     "output_type": "execute_result"
    }
   ],
   "source": [
    "Bloom.groupby([\"taxa\"]).mean()"
   ]
  },
  {
   "cell_type": "code",
   "execution_count": 163,
   "metadata": {},
   "outputs": [],
   "source": [
    "Bloom2=Bloom[[\"taxa\", \"logbodysize\"]]"
   ]
  },
  {
   "cell_type": "code",
   "execution_count": 164,
   "metadata": {},
   "outputs": [
    {
     "data": {
      "text/html": [
       "<div>\n",
       "<style scoped>\n",
       "    .dataframe tbody tr th:only-of-type {\n",
       "        vertical-align: middle;\n",
       "    }\n",
       "\n",
       "    .dataframe tbody tr th {\n",
       "        vertical-align: top;\n",
       "    }\n",
       "\n",
       "    .dataframe thead th {\n",
       "        text-align: right;\n",
       "    }\n",
       "</style>\n",
       "<table border=\"1\" class=\"dataframe\">\n",
       "  <thead>\n",
       "    <tr style=\"text-align: right;\">\n",
       "      <th></th>\n",
       "      <th>logbodysize</th>\n",
       "    </tr>\n",
       "    <tr>\n",
       "      <th>taxa</th>\n",
       "      <th></th>\n",
       "    </tr>\n",
       "  </thead>\n",
       "  <tbody>\n",
       "    <tr>\n",
       "      <th>Alosa_alabamae</th>\n",
       "      <td>1.707570</td>\n",
       "    </tr>\n",
       "    <tr>\n",
       "      <th>Alosa_alosa</th>\n",
       "      <td>1.778151</td>\n",
       "    </tr>\n",
       "    <tr>\n",
       "      <th>Alosa_fallax</th>\n",
       "      <td>1.778151</td>\n",
       "    </tr>\n",
       "    <tr>\n",
       "      <th>Alosa_mediocris</th>\n",
       "      <td>1.778151</td>\n",
       "    </tr>\n",
       "    <tr>\n",
       "      <th>Alosa_pseudoharengus</th>\n",
       "      <td>1.602060</td>\n",
       "    </tr>\n",
       "    <tr>\n",
       "      <th>Alosa_sapidissima</th>\n",
       "      <td>1.790285</td>\n",
       "    </tr>\n",
       "    <tr>\n",
       "      <th>Amazonsprattus_scintilla</th>\n",
       "      <td>0.301030</td>\n",
       "    </tr>\n",
       "    <tr>\n",
       "      <th>Anchoa_chamensis</th>\n",
       "      <td>0.778151</td>\n",
       "    </tr>\n",
       "    <tr>\n",
       "      <th>Anchoa_cubana</th>\n",
       "      <td>0.845098</td>\n",
       "    </tr>\n",
       "    <tr>\n",
       "      <th>Anchoa_delicatissima</th>\n",
       "      <td>0.903090</td>\n",
       "    </tr>\n",
       "    <tr>\n",
       "      <th>Anchoa_lamprotaenia</th>\n",
       "      <td>0.963788</td>\n",
       "    </tr>\n",
       "    <tr>\n",
       "      <th>Anchoa_lyolepis</th>\n",
       "      <td>0.845098</td>\n",
       "    </tr>\n",
       "    <tr>\n",
       "      <th>Anchoa_parva</th>\n",
       "      <td>0.778151</td>\n",
       "    </tr>\n",
       "    <tr>\n",
       "      <th>Anchoa_schofieldi</th>\n",
       "      <td>0.792392</td>\n",
       "    </tr>\n",
       "    <tr>\n",
       "      <th>Anchovia_surinamensis</th>\n",
       "      <td>1.093422</td>\n",
       "    </tr>\n",
       "    <tr>\n",
       "      <th>Anchoviella_balboae</th>\n",
       "      <td>0.857332</td>\n",
       "    </tr>\n",
       "    <tr>\n",
       "      <th>Anchoviella_brevirostris</th>\n",
       "      <td>0.857332</td>\n",
       "    </tr>\n",
       "    <tr>\n",
       "      <th>Anchoviella_jamesi</th>\n",
       "      <td>0.698970</td>\n",
       "    </tr>\n",
       "    <tr>\n",
       "      <th>Anchoviella_lepidentostole</th>\n",
       "      <td>1.064458</td>\n",
       "    </tr>\n",
       "    <tr>\n",
       "      <th>Anchoviella_manamensis</th>\n",
       "      <td>0.397940</td>\n",
       "    </tr>\n",
       "    <tr>\n",
       "      <th>Anodontostoma_chacunda</th>\n",
       "      <td>1.342423</td>\n",
       "    </tr>\n",
       "    <tr>\n",
       "      <th>Cetengraulis_edentulus</th>\n",
       "      <td>1.113943</td>\n",
       "    </tr>\n",
       "    <tr>\n",
       "      <th>Chirocentrodon_bleekerianus</th>\n",
       "      <td>0.954243</td>\n",
       "    </tr>\n",
       "    <tr>\n",
       "      <th>Clupeichthys_perakensis</th>\n",
       "      <td>0.602060</td>\n",
       "    </tr>\n",
       "    <tr>\n",
       "      <th>Clupeoides_borneensis</th>\n",
       "      <td>0.903090</td>\n",
       "    </tr>\n",
       "    <tr>\n",
       "      <th>Coilia_nasus</th>\n",
       "      <td>1.544068</td>\n",
       "    </tr>\n",
       "    <tr>\n",
       "      <th>Ehirava_fluviatilis</th>\n",
       "      <td>0.698970</td>\n",
       "    </tr>\n",
       "    <tr>\n",
       "      <th>Encrasicholina_devisi</th>\n",
       "      <td>0.903090</td>\n",
       "    </tr>\n",
       "    <tr>\n",
       "      <th>Engraulis_eurystole</th>\n",
       "      <td>1.190332</td>\n",
       "    </tr>\n",
       "    <tr>\n",
       "      <th>Escualosa_thoracata</th>\n",
       "      <td>1.000000</td>\n",
       "    </tr>\n",
       "    <tr>\n",
       "      <th>Ethmalosa_fimbriata</th>\n",
       "      <td>1.544068</td>\n",
       "    </tr>\n",
       "    <tr>\n",
       "      <th>Gilchristella_aestuaria</th>\n",
       "      <td>1.000000</td>\n",
       "    </tr>\n",
       "    <tr>\n",
       "      <th>Hilsa_kelee</th>\n",
       "      <td>1.387390</td>\n",
       "    </tr>\n",
       "    <tr>\n",
       "      <th>Hyperlophus_vittatus</th>\n",
       "      <td>1.000000</td>\n",
       "    </tr>\n",
       "    <tr>\n",
       "      <th>Jenkinsia_lamprotaenia</th>\n",
       "      <td>0.838849</td>\n",
       "    </tr>\n",
       "    <tr>\n",
       "      <th>Microthrissa_congica</th>\n",
       "      <td>0.778151</td>\n",
       "    </tr>\n",
       "    <tr>\n",
       "      <th>Pellona_harroweri</th>\n",
       "      <td>1.113943</td>\n",
       "    </tr>\n",
       "    <tr>\n",
       "      <th>Pellonula_leonensis</th>\n",
       "      <td>0.929419</td>\n",
       "    </tr>\n",
       "    <tr>\n",
       "      <th>Pellonula_vorax</th>\n",
       "      <td>1.079181</td>\n",
       "    </tr>\n",
       "    <tr>\n",
       "      <th>Potamalosa_richmondia</th>\n",
       "      <td>1.505150</td>\n",
       "    </tr>\n",
       "    <tr>\n",
       "      <th>Ramnogaster_sp</th>\n",
       "      <td>0.903090</td>\n",
       "    </tr>\n",
       "    <tr>\n",
       "      <th>Rhinosardinia_bahiensis</th>\n",
       "      <td>0.903090</td>\n",
       "    </tr>\n",
       "    <tr>\n",
       "      <th>Sauvagella_robusta</th>\n",
       "      <td>0.672098</td>\n",
       "    </tr>\n",
       "    <tr>\n",
       "      <th>Sierrathrissa_leonensis</th>\n",
       "      <td>0.477121</td>\n",
       "    </tr>\n",
       "    <tr>\n",
       "      <th>Spratelloides_delicatulus</th>\n",
       "      <td>0.845098</td>\n",
       "    </tr>\n",
       "    <tr>\n",
       "      <th>Stolephorus_waitei</th>\n",
       "      <td>0.973128</td>\n",
       "    </tr>\n",
       "    <tr>\n",
       "      <th>Stolothrissa_tanganicae</th>\n",
       "      <td>1.000000</td>\n",
       "    </tr>\n",
       "    <tr>\n",
       "      <th>Sundasalanx_mekongensis</th>\n",
       "      <td>0.447158</td>\n",
       "    </tr>\n",
       "    <tr>\n",
       "      <th>Tenualosa_ilisha</th>\n",
       "      <td>1.778151</td>\n",
       "    </tr>\n",
       "    <tr>\n",
       "      <th>Thryssa_cf_dussumieri</th>\n",
       "      <td>1.041393</td>\n",
       "    </tr>\n",
       "  </tbody>\n",
       "</table>\n",
       "</div>"
      ],
      "text/plain": [
       "                             logbodysize\n",
       "taxa                                    \n",
       "Alosa_alabamae                  1.707570\n",
       "Alosa_alosa                     1.778151\n",
       "Alosa_fallax                    1.778151\n",
       "Alosa_mediocris                 1.778151\n",
       "Alosa_pseudoharengus            1.602060\n",
       "Alosa_sapidissima               1.790285\n",
       "Amazonsprattus_scintilla        0.301030\n",
       "Anchoa_chamensis                0.778151\n",
       "Anchoa_cubana                   0.845098\n",
       "Anchoa_delicatissima            0.903090\n",
       "Anchoa_lamprotaenia             0.963788\n",
       "Anchoa_lyolepis                 0.845098\n",
       "Anchoa_parva                    0.778151\n",
       "Anchoa_schofieldi               0.792392\n",
       "Anchovia_surinamensis           1.093422\n",
       "Anchoviella_balboae             0.857332\n",
       "Anchoviella_brevirostris        0.857332\n",
       "Anchoviella_jamesi              0.698970\n",
       "Anchoviella_lepidentostole      1.064458\n",
       "Anchoviella_manamensis          0.397940\n",
       "Anodontostoma_chacunda          1.342423\n",
       "Cetengraulis_edentulus          1.113943\n",
       "Chirocentrodon_bleekerianus     0.954243\n",
       "Clupeichthys_perakensis         0.602060\n",
       "Clupeoides_borneensis           0.903090\n",
       "Coilia_nasus                    1.544068\n",
       "Ehirava_fluviatilis             0.698970\n",
       "Encrasicholina_devisi           0.903090\n",
       "Engraulis_eurystole             1.190332\n",
       "Escualosa_thoracata             1.000000\n",
       "Ethmalosa_fimbriata             1.544068\n",
       "Gilchristella_aestuaria         1.000000\n",
       "Hilsa_kelee                     1.387390\n",
       "Hyperlophus_vittatus            1.000000\n",
       "Jenkinsia_lamprotaenia          0.838849\n",
       "Microthrissa_congica            0.778151\n",
       "Pellona_harroweri               1.113943\n",
       "Pellonula_leonensis             0.929419\n",
       "Pellonula_vorax                 1.079181\n",
       "Potamalosa_richmondia           1.505150\n",
       "Ramnogaster_sp                  0.903090\n",
       "Rhinosardinia_bahiensis         0.903090\n",
       "Sauvagella_robusta              0.672098\n",
       "Sierrathrissa_leonensis         0.477121\n",
       "Spratelloides_delicatulus       0.845098\n",
       "Stolephorus_waitei              0.973128\n",
       "Stolothrissa_tanganicae         1.000000\n",
       "Sundasalanx_mekongensis         0.447158\n",
       "Tenualosa_ilisha                1.778151\n",
       "Thryssa_cf_dussumieri           1.041393"
      ]
     },
     "execution_count": 164,
     "metadata": {},
     "output_type": "execute_result"
    }
   ],
   "source": [
    "Bloom2.groupby([\"taxa\"]).mean()"
   ]
  },
  {
   "cell_type": "code",
   "execution_count": null,
   "metadata": {},
   "outputs": [],
   "source": []
  }
 ],
 "metadata": {
  "kernelspec": {
   "display_name": "Python 3",
   "language": "python",
   "name": "python3"
  },
  "language_info": {
   "codemirror_mode": {
    "name": "ipython",
    "version": 3
   },
   "file_extension": ".py",
   "mimetype": "text/x-python",
   "name": "python",
   "nbconvert_exporter": "python",
   "pygments_lexer": "ipython3",
   "version": "3.7.6"
  }
 },
 "nbformat": 4,
 "nbformat_minor": 4
}
